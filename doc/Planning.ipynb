{
 "cells": [
  {
   "cell_type": "markdown",
   "metadata": {},
   "source": [
    "# Planning notebook\n",
    "* Let's keep all of our plans and idea in one place\n",
    "\n",
    "* Have an idea about what the statisitical (or other) tests to check for hidden content \n",
    "* Can have a look at steganalysis chapter in the Book I sent \n",
    "* Things to consider when embedding: \n",
    "    * The dominant color of the block \n",
    "    * The parts of the image having most black (or most white) colors\n",
    "        * Try mean, median, ... of the colors in the 8x8 blocks\n",
    "    * Check the original DCT coefficients for which frequencies have the highest coefficients\n"
   ]
  },
  {
   "cell_type": "markdown",
   "metadata": {},
   "source": [
    "# Possible conference venues\n",
    "List of possible conference venues for publication"
   ]
  }
 ],
 "metadata": {
  "kernelspec": {
   "display_name": "Python 2",
   "language": "python",
   "name": "python2"
  },
  "language_info": {
   "codemirror_mode": {
    "name": "ipython",
    "version": 2
   },
   "file_extension": ".py",
   "mimetype": "text/x-python",
   "name": "python",
   "nbconvert_exporter": "python",
   "pygments_lexer": "ipython2",
   "version": "2.7.12"
  }
 },
 "nbformat": 4,
 "nbformat_minor": 0
}
