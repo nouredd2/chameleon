{
 "cells": [
  {
   "cell_type": "markdown",
   "metadata": {},
   "source": [
    "# [Digital image steganography: Survey and analysis of current methods](http://www.sciencedirect.com/science/article/pii/S0165168409003648)\n",
    "\n",
    "## DCT\n",
    "* Li and Wang modified the quantization table itself, and then inserted hidden bits in the middle frequency coefficients. This gave them 36 coefficients to embed in per block, and thus a good payload. [39]\n",
    "![Modified QT](QT.png)\n",
    "* JSteg is easily detected with the chi squared test. [3]\n",
    "* OutGuess used a pRNG to select DCT coefficients, which thwarts the chi squared test. However, an extended version of the chi squared test may work. [3]\n",
    "* F5 embeds only into non-zero AC DCT coeefficients by decreasing the absolute value of the coefficient by 1. The same bit has to be re-embedded in case the original is 1 or -1. Fridrich et al. came up with a detection method for it. [33]\n",
    "* Perturbed Quantization has minimal distortion but low capacity. [51]\n",
    "\n",
    "## Adaptive\n",
    "Analyzes statistical global features of the cover image, and tries to embed in noisy areas.\n",
    "* MB1 is model based [58]. Can be broken using first-order statistics [63]. Can also be detected through difference in \"blockiness\" [64]. Enhanced version to avoid blockiness is MB2 [58]. MB2 can still be detected.\n",
    "* Chin-Chen et al. estimate the degree of smoothness between pixels, with high capacity. [65]\n",
    "* A Block Complexity based Data Embedding replaces suitable noisy blocks of pixels with noisy blocks containing data. [66]\n",
    "* Genetic algorithm breaks detection by artificially counterfeiting statistical features. Time complexity may be an issue. [74]\n",
    "* Genetic algorithm that uses +/-1 technique on JPEG. [64]\n",
    "* Kong et al. calculates entropy for each region, which dictates embedding strength of LSB. [76]\n",
    "\n",
    "## Other 2D image\n",
    "* Discrete wavelet transform [55] [57] [67]\n",
    "* Nakamura and Zhao morphing process [79]\n",
    "* Zeki and Azizah intermediate significant bit algorithm [80]\n",
    "\n",
    "* New detection methods utilize neural networks [46] [56]\n",
    "\n",
    "## 3D graphics\n",
    "* Chao et al. [77]\n",
    "* Bogomjakov et al. [78]\n",
    "\n",
    "## Video\n",
    "* McKeon used 2D DFT for steganography in movies. [44]\n",
    "\n",
    "## List of tools\n",
    "![List of tools](Tools.PNG)"
   ]
  }
 ],
 "metadata": {
  "anaconda-cloud": {},
  "kernelspec": {
   "display_name": "Python 2",
   "language": "python",
   "name": "python2"
  },
  "language_info": {
   "codemirror_mode": {
    "name": "ipython",
    "version": 2
   },
   "file_extension": ".py",
   "mimetype": "text/x-python",
   "name": "python",
   "nbconvert_exporter": "python",
   "pygments_lexer": "ipython2",
   "version": "2.7.12"
  }
 },
 "nbformat": 4,
 "nbformat_minor": 0
}
